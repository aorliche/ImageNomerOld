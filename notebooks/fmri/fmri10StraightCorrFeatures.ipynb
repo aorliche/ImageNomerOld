{
 "cells": [
  {
   "cell_type": "code",
   "execution_count": 2,
   "id": "b9942ee5",
   "metadata": {},
   "outputs": [
    {
     "name": "stdout",
     "output_type": "stream",
     "text": [
      "dict_keys(['FC-slim', 'subjNum2IdxMap', 'subjIdx2NumMap', 'groupsNormalDiagMap'])\n"
     ]
    }
   ],
   "source": [
    "import pickle\n",
    "\n",
    "fname = '../../data/fmri-FC-slim.pkl'\n",
    "fmriDict = None\n",
    "\n",
    "with open(fname, 'rb') as f:\n",
    "    fmriDict = pickle.load(f)\n",
    "    \n",
    "print(fmriDict.keys())"
   ]
  },
  {
   "cell_type": "code",
   "execution_count": 3,
   "id": "4794bd30",
   "metadata": {},
   "outputs": [
    {
     "name": "stdout",
     "output_type": "stream",
     "text": [
      "33\n",
      "['007', '012', '014', '016', '018', '021', '022', '026', '030', '031', '032', '033', '034', '036', '042', '045', '047', '056', '058', '059', '060', '061', '064', '066', '068', '069', '070', '072', '073', '074', '075', '076', '077']\n",
      "33\n",
      "['002', '004', '005', '006', '008', '009', '010', '011', '013', '015', '017', '019', '020', '023', '024', '025', '028', '029', '037', '038', '039', '040', '043', '044', '046', '049', '050', '052', '053', '054', '055', '062', '063']\n"
     ]
    }
   ],
   "source": [
    "def getGroupIdcs(groupsMap):\n",
    "    normals = []\n",
    "    fibros = []\n",
    "    for num,diag in groupsMap.items():\n",
    "        if diag == 1:\n",
    "            normals.append(num)\n",
    "        else:\n",
    "            fibros.append(num)\n",
    "    return normals,fibros\n",
    "\n",
    "normals, fibros = getGroupIdcs(fmriDict['groupsNormalDiagMap'])\n",
    "\n",
    "print(len(normals))\n",
    "print(normals)\n",
    "print(len(fibros))\n",
    "print(fibros)"
   ]
  },
  {
   "cell_type": "code",
   "execution_count": 20,
   "id": "e1190154",
   "metadata": {},
   "outputs": [
    {
     "name": "stdout",
     "output_type": "stream",
     "text": [
      "(34716, 66)\n",
      "(34716, 66)\n"
     ]
    }
   ],
   "source": [
    "import numpy as np\n",
    "\n",
    "FCslim = fmriDict['FC-slim']\n",
    "subjNum2Idx = fmriDict['subjNum2IdxMap']\n",
    "\n",
    "Xfibros = [FCslim[subjNum2Idx[num]] for num in fibros]\n",
    "Xnormals = [FCslim[subjNum2Idx[num]] for num in normals]\n",
    "\n",
    "X = np.concatenate([Xfibros, Xnormals], axis=0)\n",
    "X = X.T\n",
    "\n",
    "y = np.concatenate([np.ones((1,33)), -np.ones((1,33))], axis=1)\n",
    "y = np.repeat(y, 34716, axis=0)\n",
    "\n",
    "print(y.shape)\n",
    "print(X.shape)"
   ]
  },
  {
   "cell_type": "code",
   "execution_count": 21,
   "id": "6d643553",
   "metadata": {},
   "outputs": [
    {
     "name": "stdout",
     "output_type": "stream",
     "text": [
      "(34716,)\n"
     ]
    }
   ],
   "source": [
    "sxy = np.einsum('ab,ab->a',X,y)\n",
    "sxx = np.einsum('ab,ab->a',X,X)\n",
    "syy = np.einsum('ab,ab->a',y,y)\n",
    "\n",
    "rho = sxy/np.sqrt(sxx*syy)\n",
    "\n",
    "print(rho.shape)"
   ]
  },
  {
   "cell_type": "code",
   "execution_count": 22,
   "id": "16c024f6",
   "metadata": {},
   "outputs": [
    {
     "name": "stdout",
     "output_type": "stream",
     "text": [
      "[23762 16198  2412  2437 22309 12379  2426 22846  2352  2436]\n",
      "[-0.41117489 -0.41245927 -0.42228221 -0.42969494 -0.43587849 -0.43924892\n",
      " -0.4582674  -0.45887354 -0.46873259 -0.52940131]\n"
     ]
    }
   ],
   "source": [
    "idcs = np.argsort(np.abs(rho))\n",
    "print(idcs[-10:])\n",
    "print(rho[idcs[-10:]])"
   ]
  },
  {
   "cell_type": "code",
   "execution_count": 23,
   "id": "e56a780d",
   "metadata": {},
   "outputs": [
    {
     "name": "stdout",
     "output_type": "stream",
     "text": [
      "[184 160 136   1 101 115 123  25  26   9 115  71   9   9 105  52   9 109\n",
      "   9   9]\n",
      "[195 219 185  91 116 189 219 222 115 108 188  82  91 116 260  82 105 175\n",
      "  31 115]\n",
      "9-115\n",
      "9-31\n",
      "109-175\n",
      "9-105\n",
      "52-82\n",
      "105-260\n",
      "9-116\n",
      "9-91\n",
      "71-82\n",
      "115-188\n",
      "9-108\n",
      "26-115\n",
      "25-222\n",
      "123-219\n",
      "115-189\n",
      "101-116\n",
      "1-91\n",
      "136-185\n",
      "160-219\n",
      "184-195\n"
     ]
    }
   ],
   "source": [
    "a,b = np.triu_indices(264,1)\n",
    "print(a[idcs[-20:]])\n",
    "print(b[idcs[-20:]])\n",
    "lst = []\n",
    "for idx in idcs[-20:]:\n",
    "    lst.append(f'{a[idx]}-{b[idx]}')\n",
    "for conn in lst[::-1]:\n",
    "    print(conn)"
   ]
  },
  {
   "cell_type": "code",
   "execution_count": null,
   "id": "99a95852",
   "metadata": {},
   "outputs": [],
   "source": []
  }
 ],
 "metadata": {
  "kernelspec": {
   "display_name": "Python 3 (ipykernel)",
   "language": "python",
   "name": "python3"
  },
  "language_info": {
   "codemirror_mode": {
    "name": "ipython",
    "version": 3
   },
   "file_extension": ".py",
   "mimetype": "text/x-python",
   "name": "python",
   "nbconvert_exporter": "python",
   "pygments_lexer": "ipython3",
   "version": "3.10.5"
  }
 },
 "nbformat": 4,
 "nbformat_minor": 5
}
