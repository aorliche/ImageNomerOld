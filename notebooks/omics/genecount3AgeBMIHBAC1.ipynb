{
 "cells": [
  {
   "cell_type": "code",
   "execution_count": 1,
   "id": "2a7744ab",
   "metadata": {},
   "outputs": [
    {
     "name": "stdout",
     "output_type": "stream",
     "text": [
      "[1, 1, 1, 0, 0, 0, 1, 1, 0, 0, 0, 1, 1, 1, 1, 1, 1, 0, 0, 0, 1, 1, 1, 0, 0, 0, 1, 1, 1, 0, 0, 0, 1, 1, 1, 0, 0, 0, 1, 1, 1, 0, 0, 0, 1, 1, 1, 0, 0, 0, 1, 1, 1, 0, 0, 0, 1, 1, 1, 0, 0, 0, 1, 1, 1, 0, 0, 0, 1, 1, 1, 0, 0, 0, 1, 1, 1, 0, 0, 0, 1, 1, 1, 0, 0, 0, 1, 1, 1, 0, 0, 1, 1, 1, 1, 1, 1, 0, 0, 0, 1, 1, 1, 1, 1, 0, 0, 0, 1, 1, 1]\n",
      "['P7401_101', 'P7401_102', 'P7401_103', 'P7401_104', 'P7401_105', 'P7401_106', 'P7401_107', 'P7401_108', 'P7401_109', 'P7401_110', 'P7401_111', 'P7401_112', 'P7401_113', 'P7401_114', 'P7401_118', 'P7401_119', 'P7401_120', 'P7401_121', 'P7401_122', 'P7401_123', 'P7401_124', 'P7401_125', 'P7401_126', 'P7401_127', 'P7401_128', 'P7401_129', 'P7401_130', 'P7401_131', 'P7401_132', 'P7401_133', 'P7401_134', 'P7401_135', 'P7401_136', 'P7401_137', 'P7401_138', 'P7401_139', 'P7401_140', 'P7401_141', 'P7401_142', 'P7401_143', 'P7401_144', 'P7401_145', 'P7401_146', 'P7401_147', 'P7401_148', 'P7401_149', 'P7401_150', 'P7401_151', 'P7401_152', 'P7401_153', 'P7401_154', 'P7401_155', 'P7401_156', 'P7401_157', 'P7401_158', 'P7401_159', 'P7401_160', 'P7401_161', 'P7401_162', 'P7401_163', 'P7401_164', 'P7401_165', 'P7401_166', 'P7401_167', 'P7401_168', 'P7401_169', 'P7401_170', 'P7401_171', 'P7401_172', 'P7401_173', 'P7401_174', 'P7401_175', 'P7401_176', 'P7401_177', 'P7401_178', 'P7401_179', 'P7401_180', 'P7401_181', 'P7401_182', 'P7401_183', 'P7401_184', 'P7401_185', 'P7401_186', 'P7401_187', 'P7401_188', 'P7401_189', 'P7401_190', 'P7401_191', 'P7401_192', 'P7401_193', 'P7401_194', 'P7401_201', 'P7401_202', 'P7401_203', 'P7401_207', 'P7401_208', 'P7401_209', 'P7401_210', 'P7401_211', 'P7401_212', 'P7401_213', 'P7401_214', 'P7401_215', 'P7401_219', 'P7401_220', 'P7401_222', 'P7401_223', 'P7401_224', 'P7401_225', 'P7401_226', 'P7401_227']\n",
      "['basal', 'post', 'rec', 'basal', 'post', 'rec', 'basal', 'rec', 'basal', 'post', 'rec', 'basal', 'post', 'rec', 'basal', 'post', 'rec', 'basal', 'post', 'rec', 'basal', 'post', 'rec', 'basal', 'post', 'rec', 'basal', 'post', 'rec', 'basal', 'post', 'rec', 'basal', 'post', 'rec', 'basal', 'post', 'rec', 'basal', 'post', 'rec', 'basal', 'post', 'rec', 'basal', 'post', 'rec', 'basal', 'post', 'rec', 'basal', 'post', 'rec', 'basal', 'post', 'rec', 'basal', 'post', 'rec', 'basal', 'post', 'rec', 'basal', 'post', 'rec', 'basal', 'post', 'rec', 'basal', 'post', 'rec', 'basal', 'post', 'rec', 'basal', 'post', 'rec', 'basal', 'post', 'rec', 'basal', 'post', 'rec', 'basal', 'post', 'rec', 'basal', 'post', 'rec', 'basal', 'rec', 'basal', 'post', 'rec', 'basal', 'post', 'rec', 'basal', 'post', 'rec', 'basal', 'post', 'rec', 'basal', 'post', 'basal', 'post', 'rec', 'basal', 'post', 'rec']\n",
      "['T2D_001', 'T2D_001', 'T2D_001', 'NGT_003', 'NGT_003', 'NGT_003', 'T2D_002', 'T2D_002', 'NGT_010', 'NGT_010', 'NGT_010', 'T2D_006', 'T2D_006', 'T2D_006', 'T2D_007', 'T2D_007', 'T2D_007', 'NGT_016', 'NGT_016', 'NGT_016', 'T2D_009', 'T2D_009', 'T2D_009', 'NGT_018', 'NGT_018', 'NGT_018', 'T2D_011', 'T2D_011', 'T2D_011', 'NGT_020', 'NGT_020', 'NGT_020', 'T2D_012', 'T2D_012', 'T2D_012', 'NGT_021', 'NGT_021', 'NGT_021', 'T2D_017', 'T2D_017', 'T2D_017', 'NGT_022', 'NGT_022', 'NGT_022', 'T2D_019', 'T2D_019', 'T2D_019', 'NGT_023', 'NGT_023', 'NGT_023', 'T2D_024', 'T2D_024', 'T2D_024', 'NGT_027', 'NGT_027', 'NGT_027', 'T2D_026', 'T2D_026', 'T2D_026', 'NGT_028', 'NGT_028', 'NGT_028', 'T2D_030', 'T2D_030', 'T2D_030', 'NGT_033', 'NGT_033', 'NGT_033', 'T2D_031', 'T2D_031', 'T2D_031', 'NGT_050', 'NGT_050', 'NGT_050', 'T2D_035', 'T2D_035', 'T2D_035', 'NGT_052', 'NGT_052', 'NGT_052', 'T2D_101', 'T2D_101', 'T2D_101', 'NGT_123', 'NGT_123', 'NGT_123', 'T2D_104', 'T2D_104', 'T2D_104', 'NGT_124', 'NGT_124', 'T2D_107', 'T2D_107', 'T2D_107', 'T2D_108', 'T2D_108', 'T2D_108', 'NGT_127', 'NGT_127', 'NGT_127', 'T2D_109', 'T2D_109', 'T2D_109', 'T2D_112', 'T2D_112', 'NGT_129', 'NGT_129', 'NGT_129', 'T2D_119', 'T2D_119', 'T2D_119']\n"
     ]
    }
   ],
   "source": [
    "filedir = '/home/anton/Documents/Tulane/Hackathon'\n",
    "countName = f'{filedir}/GSE202295_gene_counts.txt'\n",
    "seriesName = f'{filedir}/GSE202295_series_matrix.txt'\n",
    "\n",
    "import re\n",
    "\n",
    "diagT2D = None\n",
    "sampleIds = None\n",
    "sampleTimes = None\n",
    "subjIds = None\n",
    "ages = None\n",
    "bmis = None\n",
    "hba1c = None\n",
    "\n",
    "def parseSeriesLine(line):\n",
    "    global diagT2D, sampleIds, sampleTimes, subjIds, ages, bmis, hba1c\n",
    "    parts = line.split('\\t')\n",
    "    if parts[0] == '!Sample_characteristics_ch1':\n",
    "        pat = re.compile('\"diagnosis: ([^\"]+)\".*')\n",
    "        if pat.search(parts[1]) is not None:\n",
    "            diagT2D = [int(pat.search(d).groups()[0] == 'T2D') for d in parts[1:]]\n",
    "        pat = re.compile('\"age: ([^\"]+)\".*')\n",
    "        if pat.search(parts[1]) is not None:\n",
    "            ages = [int(pat.search(d).groups()[0]) for d in parts[1:]]\n",
    "        pat = re.compile('\"bmi: ([^\"]+)\".*')\n",
    "        if pat.search(parts[1]) is not None:\n",
    "            bmis = [float(pat.search(d).groups()[0]) for d in parts[1:]]\n",
    "        pat = re.compile('\"hba1c: ([^\"]+)\".*')\n",
    "        if pat.search(parts[1]) is not None:\n",
    "            hba1c = [pat.search(d).groups()[0] for d in parts[1:]]\n",
    "    if parts[0] == '!Sample_title':\n",
    "        pat = re.compile('\"[^\\s]+\\s\\[([^\\]]+)\\]\".*')\n",
    "        if pat.search(parts[1]) is not None:\n",
    "            sampleIds = [pat.search(sid).groups()[0] for sid in parts[1:]]\n",
    "        pat = re.compile('\"((?:T2D|NGT?)_\\d+)_(\\w+).*\"')\n",
    "        if pat.search(parts[1]) is not None:\n",
    "            sampleTimes = [pat.search(t).groups()[1] for t in parts[1:]]\n",
    "            subjIds = [pat.search(t).groups()[0] for t in parts[1:]]\n",
    "\n",
    "with open(seriesName, 'r') as f:\n",
    "    for line in f.readlines():\n",
    "        parseSeriesLine(line)\n",
    "        \n",
    "print(diagT2D)\n",
    "print(sampleIds)\n",
    "print(sampleTimes)\n",
    "print(subjIds)"
   ]
  },
  {
   "cell_type": "code",
   "execution_count": 10,
   "id": "c7495922",
   "metadata": {},
   "outputs": [
    {
     "name": "stdout",
     "output_type": "stream",
     "text": [
      "(59.82, 5.809268456527035)\n",
      "(60.18032786885246, 4.571860462571373)\n",
      "(27.450000000000003, 2.7542875666858024)\n",
      "(28.349180327868847, 2.6676952016288022)\n",
      "(35.212765957446805, 3.175277975519596)\n",
      "(47.18032786885246, 8.34405294593899)\n"
     ]
    }
   ],
   "source": [
    "import numpy as np\n",
    "\n",
    "agesNGT = []\n",
    "agesT2D = []\n",
    "bmisNGT = []\n",
    "bmisT2D = []\n",
    "hba1cNGT = []\n",
    "hba1cT2D = []\n",
    "\n",
    "for d,a,b,c in zip(diagT2D, ages, bmis, hba1c):\n",
    "    if d == 1:\n",
    "        agesT2D.append(a)\n",
    "        bmisT2D.append(b)\n",
    "        if c != 'NA':\n",
    "            hba1cT2D.append(int(c))\n",
    "    elif d == 0:\n",
    "        agesNGT.append(a)\n",
    "        bmisNGT.append(b)\n",
    "        if c != 'NA':\n",
    "            hba1cNGT.append(int(c))\n",
    "            \n",
    "for arr in [agesNGT, agesT2D, bmisNGT, bmisT2D, hba1cNGT, hba1cT2D]:\n",
    "    arr = np.array(arr)\n",
    "    print((np.mean(arr),np.std(arr)))\n",
    "    "
   ]
  },
  {
   "cell_type": "code",
   "execution_count": null,
   "id": "2c794b7c",
   "metadata": {},
   "outputs": [],
   "source": []
  }
 ],
 "metadata": {
  "kernelspec": {
   "display_name": "Python 3 (ipykernel)",
   "language": "python",
   "name": "python3"
  },
  "language_info": {
   "codemirror_mode": {
    "name": "ipython",
    "version": 3
   },
   "file_extension": ".py",
   "mimetype": "text/x-python",
   "name": "python",
   "nbconvert_exporter": "python",
   "pygments_lexer": "ipython3",
   "version": "3.10.5"
  }
 },
 "nbformat": 4,
 "nbformat_minor": 5
}
